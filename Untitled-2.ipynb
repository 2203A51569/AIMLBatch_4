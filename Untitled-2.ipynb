{
 "cells": [
  {
   "cell_type": "code",
   "execution_count": 1,
   "metadata": {},
   "outputs": [
    {
     "name": "stdout",
     "output_type": "stream",
     "text": [
      "['shivani' 'siddu' 'anu' 'vignesh']\n"
     ]
    }
   ],
   "source": [
    "import numpy as np\n",
    "list1=['shivani','siddu','anu','vignesh']\n",
    "array1=np.array(list1)\n",
    "print(array1)"
   ]
  }
 ],
 "metadata": {
  "kernelspec": {
   "display_name": "Python 3 (ipykernel)",
   "language": "python",
   "name": "python3"
  }
 },
 "nbformat": 4,
 "nbformat_minor": 2
}
