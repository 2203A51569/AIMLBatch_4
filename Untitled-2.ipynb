{
 "cells": [
  {
   "cell_type": "code",
   "execution_count": 4,
   "metadata": {},
   "outputs": [
    {
     "name": "stdout",
     "output_type": "stream",
     "text": [
      "array2 multiplied by array1: [ 2 12 30]\n"
     ]
    }
   ],
   "source": [
    "import numpy as np\n",
    "list1=[2,4,6]\n",
    "array1=np.array(list1)\n",
    "list2=[1,3,5]\n",
    "array2=np.array(list2)\n",
    "print(\"array2 multiplied by array1:\",array1*array2)"
   ]
  }
 ],
 "metadata": {
  "kernelspec": {
   "display_name": "Python 3",
   "language": "python",
   "name": "python3"
  },
  "language_info": {
   "codemirror_mode": {
    "name": "ipython",
    "version": 3
   },
   "file_extension": ".py",
   "mimetype": "text/x-python",
   "name": "python",
   "nbconvert_exporter": "python",
   "pygments_lexer": "ipython3",
   "version": "3.10.13"
  }
 },
 "nbformat": 4,
 "nbformat_minor": 2
}
